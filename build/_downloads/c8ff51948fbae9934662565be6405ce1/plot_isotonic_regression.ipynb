{
  "cells": [
    {
      "cell_type": "code",
      "execution_count": null,
      "metadata": {
        "collapsed": false
      },
      "outputs": [],
      "source": [
        "%matplotlib inline"
      ]
    },
    {
      "cell_type": "markdown",
      "metadata": {},
      "source": [
        "\n# \u4fdd\u5e8f\u56de\u5f52\n\n\n\u5bf9\u751f\u6210\u7684\u6570\u636e\u8fdb\u884c\u4fdd\u5e8f\u56de\u5f52\u7684\u4f8b\u5b50\u3002\u4fdd\u5e8f\u56de\u5f52\u53d1\u73b0\u4e00\u4e2a\u51fd\u6570\u7684\u975e\u9012\u51cf\u8fd1\u4f3c\uff0c\n\u540c\u65f6\u6700\u5c0f\u5316\u8bad\u7ec3\u6570\u636e\u7684\u5747\u65b9\u8bef\u5dee\u3002\n\u8fd9\u79cd\u6a21\u578b\u7684\u597d\u5904\u662f\u5b83\u4e0d\u91c7\u53d6\u4efb\u4f55\u5f62\u5f0f\u7684\u76ee\u6807\u51fd\u6570\uff0c\u5982\u7ebf\u6027\u3002\n\u4e3a\u4fbf\u4e8e\u6bd4\u8f83\uff0c\u8fd8\u63d0\u51fa\u4e86\u4e00\u79cd\u7ebf\u6027\u56de\u5f52\u65b9\u6cd5\u3002\n\n\n"
      ]
    },
    {
      "cell_type": "code",
      "execution_count": null,
      "metadata": {
        "collapsed": false
      },
      "outputs": [],
      "source": [
        "print(__doc__)\n\n# Author: antares\n# License: BSD\n\nimport numpy as np\nimport matplotlib.pyplot as plt\nfrom matplotlib.collections import LineCollection\n\nfrom sklearn.linear_model import LinearRegression\nfrom sklearn.isotonic import IsotonicRegression\nfrom sklearn.utils import check_random_state\n\nn = 100\nx = np.arange(n)\nrs = check_random_state(0)\ny = rs.randint(-50, 50, size=(n,)) + 50. * np.log1p(np.arange(n))\n\n# #############################################################################\n# \u62df\u5408 IsotonicRegression \u548c LinearRegression \u6a21\u578b\n\nir = IsotonicRegression()\n\ny_ = ir.fit_transform(x, y)\n\nlr = LinearRegression()\nlr.fit(x[:, np.newaxis], y)  # x \u5fc5\u987b\u662f 2d \u5bf9\u4e8e LinearRegression\n\n# #############################################################################\n# \u7ed8\u5236\u7ed3\u679c\n\nsegments = [[[i, y[i]], [i, y_[i]]] for i in range(n)]\nlc = LineCollection(segments, zorder=0)\nlc.set_array(np.ones(len(y)))\nlc.set_linewidths(np.full(n, 0.5))\n\nfig = plt.figure()\nplt.plot(x, y, 'r.', markersize=12)\nplt.plot(x, y_, 'g.-', markersize=12)\nplt.plot(x, lr.predict(x[:, np.newaxis]), 'b-')\nplt.gca().add_collection(lc)\nplt.legend(('Data', 'Isotonic Fit', 'Linear Fit'), loc='lower right')\nplt.title('Isotonic regression')\nplt.show()"
      ]
    }
  ],
  "metadata": {
    "kernelspec": {
      "display_name": "Python 3",
      "language": "python",
      "name": "python3"
    },
    "language_info": {
      "codemirror_mode": {
        "name": "ipython",
        "version": 3
      },
      "file_extension": ".py",
      "mimetype": "text/x-python",
      "name": "python",
      "nbconvert_exporter": "python",
      "pygments_lexer": "ipython3",
      "version": "3.6.4"
    }
  },
  "nbformat": 4,
  "nbformat_minor": 0
}